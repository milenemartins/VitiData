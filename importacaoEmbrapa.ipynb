{
  "cells": [
    {
      "cell_type": "code",
      "execution_count": null,
      "metadata": {},
      "outputs": [],
      "source": [
        "# \ud83d\udce6 Instala\u00e7\u00e3o de depend\u00eancias\n!pip install selenium beautifulsoup4 pandas --quiet"
      ]
    },
    {
      "cell_type": "code",
      "execution_count": null,
      "metadata": {},
      "outputs": [],
      "source": [
        "# \ud83d\udd27 Configura\u00e7\u00e3o do ambiente\n",
        "import os\n",
        "import time\n",
        "import csv\n",
        "from selenium import webdriver\n",
        "from selenium.webdriver.chrome.options import Options\n",
        "from selenium.webdriver.common.by import By\n",
        "from bs4 import BeautifulSoup\n",
        "import pandas as pd\n\n",
        "categorias = {\n",
        "    \"vinhosDeMesa\": \"subopt_01\",\n",
        "    \"espumantes\": \"subopt_02\",\n",
        "    \"uvasFrescas\": \"subopt_03\",\n",
        "    \"uvasPassas\": \"subopt_04\",\n",
        "    \"sucoDeUva\": \"subopt_05\"\n",
        "}\n\n",
        "anoAtual = 2024\n",
        "anoInicial = 1970"
      ]
    },
    {
      "cell_type": "code",
      "execution_count": null,
      "metadata": {},
      "outputs": [],
      "source": [
        "# \ud83d\ude97 Fun\u00e7\u00e3o para iniciar o navegador headless\n",
        "def iniciarDriver():\n",
        "    options = Options()\n",
        "    options.add_argument(\"--headless=new\")\n",
        "    options.add_argument(\"--disable-gpu\")\n",
        "    options.add_argument(\"--no-sandbox\")\n",
        "    options.add_argument(\"--window-size=1920,1080\")\n",
        "    options.add_argument(\"--allow-running-insecure-content\")\n",
        "    options.add_argument(\"--ignore-certificate-errors\")\n",
        "    options.add_argument(\"--unsafely-treat-insecure-origin-as-secure=http://vitibrasil.cnpuv.embrapa.br\")\n",
        "    return webdriver.Chrome(options=options)"
      ]
    },
    {
      "cell_type": "code",
      "execution_count": null,
      "metadata": {},
      "outputs": [],
      "source": [
        "# \ud83e\udde0 Escolher intervalo de anos\n",
        "def definirIntervaloAnos():\n",
        "    print(\"\\n\ud83d\udccc Escolha o intervalo de anos:\")\n",
        "    print(\"1 - \u00daltimo ano (2024)\")\n",
        "    print(\"2 - Um ano espec\u00edfico\")\n",
        "    print(\"3 - \u00daltimos 5 anos\")\n",
        "    print(\"4 - \u00daltimos 10 anos\")\n",
        "    print(\"5 - Todos os anos (1970 a 2024)\")\n",
        "    escolha = input(\"Digite o n\u00famero da op\u00e7\u00e3o desejada: \")\n",
        "    if escolha == \"1\": return [anoAtual]\n",
        "    elif escolha == \"2\":\n",
        "        ano = int(input(\"Digite o ano desejado (ex: 2005): \"))\n",
        "        if ano < anoInicial or ano > anoAtual:\n",
        "            raise ValueError(\"Ano fora do intervalo permitido.\")\n",
        "        return [ano]\n",
        "    elif escolha == \"3\": return list(range(anoAtual - 4, anoAtual + 1))\n",
        "    elif escolha == \"4\": return list(range(anoAtual - 9, anoAtual + 1))\n",
        "    elif escolha == \"5\": return list(range(anoInicial, anoAtual + 1))\n",
        "    else: raise ValueError(\"Op\u00e7\u00e3o inv\u00e1lida.\")"
      ]
    },
    {
      "cell_type": "code",
      "execution_count": null,
      "metadata": {},
      "outputs": [],
      "source": [
        "# \ud83c\udf0e Extrair dados por categoria e anos\n",
        "def extrairPorCategoriaEAnos(driver, nomeCategoria, subopcao, anos):\n",
        "    dadosColetados = []\n",
        "    for ano in anos:\n",
        "        url = f\"http://vitibrasil.cnpuv.embrapa.br/index.php?ano={ano}&opcao=opt_05&subopcao={subopcao}\"\n",
        "        print(f\"\ud83d\udd04 Coletando: {nomeCategoria} - {ano}\")\n",
        "        driver.get(url)\n",
        "        time.sleep(2)\n",
        "        soup = BeautifulSoup(driver.page_source, \"html.parser\")\n",
        "        tabela = soup.find(\"table\", {\"class\": \"tb_base tb_dados\"})\n",
        "        if not tabela:\n",
        "            print(f\"\u26a0\ufe0f Tabela n\u00e3o encontrada para {nomeCategoria} em {ano}\")\n",
        "            continue\n",
        "        linhas = tabela.find(\"tbody\").find_all(\"tr\")\n",
        "        for linha in linhas:\n",
        "            cels = linha.find_all(\"td\")\n",
        "            if len(cels) >= 3:\n",
        "                pais = cels[0].text.strip()\n",
        "                qtd = cels[1].text.strip().replace('.', '').replace(',', '.')\n",
        "                valor = cels[2].text.strip().replace('.', '').replace(',', '.')\n",
        "                try:\n",
        "                    dadosColetados.append([\n",
        "                        ano, pais, nomeCategoria,\n",
        "                        float(qtd) if qtd != '-' else 0.0,\n",
        "                        float(valor) if valor != '-' else 0.0\n",
        "                    ])\n",
        "                except:\n",
        "                    continue\n",
        "    return dadosColetados"
      ]
    },
    {
      "cell_type": "code",
      "execution_count": null,
      "metadata": {},
      "outputs": [],
      "source": [
        "# \ud83d\udcbe Salvar dados em CSV\n",
        "def salvarCsv(dados, nomeCategoria):\n",
        "    os.makedirs(\"dadosImportacao\", exist_ok=True)\n",
        "    df = pd.DataFrame(dados, columns=[\"Ano\", \"Pais\", \"Categoria\", \"QuantidadeKg\", \"ValorUsd\"])\n",
        "    df.to_csv(f\"dadosImportacao/{nomeCategoria}.csv\", index=False)\n",
        "    print(f\"\u2705 CSV salvo: dadosImportacao/{nomeCategoria}.csv\")\n",
        "    return df"
      ]
    },
    {
      "cell_type": "code",
      "execution_count": null,
      "metadata": {},
      "outputs": [],
      "source": [
        "# \ud83d\ude80 Rodar coleta completa\n",
        "anosSelecionados = definirIntervaloAnos()\n",
        "driver = iniciarDriver()\n",
        "todosDados = []\n",
        "for categoriaNome, codigo in categorias.items():\n",
        "    dados = extrairPorCategoriaEAnos(driver, categoriaNome, codigo, anosSelecionados)\n",
        "    if dados:\n",
        "        salvarCsv(dados, categoriaNome)\n",
        "        todosDados.extend(dados)\n",
        "    else:\n",
        "        print(f\"\u26a0\ufe0f Nenhum dado encontrado para: {categoriaNome}\")\n",
        "driver.quit()\n",
        "print(\"\ud83c\udfc1 Finalizado!\")"
      ]
    },
    {
      "cell_type": "code",
      "execution_count": null,
      "metadata": {},
      "outputs": [],
      "source": [
        "# \ud83d\udc40 Visualizar todos os dados\n",
        "df_total = pd.DataFrame(todosDados, columns=[\"Ano\", \"Pais\", \"Categoria\", \"QuantidadeKg\", \"ValorUsd\"])\n",
        "df_total.head()"
      ]
    }
  ],
  "metadata": {
    "kernelspec": {
      "display_name": "Python 3",
      "language": "python",
      "name": "python3"
    },
    "language_info": {
      "name": "python",
      "version": "3.10"
    }
  },
  "nbformat": 4,
  "nbformat_minor": 5
}